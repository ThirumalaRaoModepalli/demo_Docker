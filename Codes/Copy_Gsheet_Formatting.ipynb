{
  "nbformat": 4,
  "nbformat_minor": 0,
  "metadata": {
    "colab": {
      "provenance": [],
      "include_colab_link": true
    },
    "kernelspec": {
      "name": "python3",
      "display_name": "Python 3"
    },
    "language_info": {
      "name": "python"
    }
  },
  "cells": [
    {
      "cell_type": "markdown",
      "metadata": {
        "id": "view-in-github",
        "colab_type": "text"
      },
      "source": [
        "<a href=\"https://colab.research.google.com/github/ThirumalaRaoModepalli/demo_Docker/blob/main/Codes/Copy_Gsheet_Formatting.ipynb\" target=\"_parent\"><img src=\"https://colab.research.google.com/assets/colab-badge.svg\" alt=\"Open In Colab\"/></a>"
      ]
    },
    {
      "cell_type": "code",
      "source": [
        "import gspread\n",
        "from google.oauth2.service_account import Credentials\n",
        "from googleapiclient.discovery import build\n",
        "from googleapiclient.errors import HttpError\n",
        "\n",
        "# Authenticate with your Google Sheets account\n",
        "scope = [\"https://spreadsheets.google.com/feeds\", \"https://www.googleapis.com/auth/drive\"]\n",
        "creds = Credentials.from_service_account_file('/content/api_key.json', scopes = scope)\n",
        "gc = gspread.Client(auth = creds)"
      ],
      "metadata": {
        "id": "31z12-G1AU8L"
      },
      "execution_count": 1,
      "outputs": []
    },
    {
      "cell_type": "code",
      "source": [
        "!pip install -qq gspread-formatting --upgrade"
      ],
      "metadata": {
        "id": "tO7XAH7BIE3X"
      },
      "execution_count": 9,
      "outputs": []
    },
    {
      "cell_type": "code",
      "source": [
        "from gspread_formatting import *"
      ],
      "metadata": {
        "id": "4pMKXUyvH_-M"
      },
      "execution_count": 4,
      "outputs": []
    },
    {
      "cell_type": "code",
      "source": [
        "spreadsheet = gc.open('Copy of about_Us_Links')\n",
        "worksheet = spreadsheet.worksheet('Sheet1')"
      ],
      "metadata": {
        "id": "8OY7Pm0RHR37"
      },
      "execution_count": 50,
      "outputs": []
    },
    {
      "cell_type": "code",
      "source": [
        "def formatting(worksheet):\n",
        "\n",
        "    all_values = worksheet.get_all_values()\n",
        "\n",
        "    # Calculate the number of filled rows and columns\n",
        "    num_filled_rows = len(all_values)\n",
        "    num_filled_columns = len(all_values[0]) if num_filled_rows > 0 else 0\n",
        "    cell_range = f\"A2:{chr(ord('A') + num_filled_columns - 1)}{num_filled_rows + 1}\"\n",
        "    header_fmt = cellFormat(\n",
        "        backgroundColor = color(1, 0.8, 1),\n",
        "        textFormat = textFormat(bold=True, foregroundColor = color(0, 0, 0)),\n",
        "        horizontalAlignment = 'CENTER',\n",
        "        borders = borders(\n",
        "            top = border('SOLID', color = color(0, 0, 0)),\n",
        "            bottom = border('SOLID', color = color(0, 0, 0)),\n",
        "            left = border('SOLID', color = color(0, 0, 0)),\n",
        "            right = border('SOLID', color = color(0, 0, 0))\n",
        "        )\n",
        "    )\n",
        "\n",
        "    data_fmt = cellFormat(\n",
        "        horizontalAlignment = 'LEFT',\n",
        "        borders = borders(\n",
        "            top = border('SOLID', color = color(0, 0, 0)),\n",
        "            bottom = border('SOLID', color = color(0, 0, 0)),\n",
        "            left = border('SOLID', color = color(0, 0, 0)),\n",
        "            right = border('SOLID', color = color(0, 0, 0))\n",
        "        )\n",
        "    )\n",
        "    headers = worksheet.row_values(1)  # Get the headers from the first row\n",
        "    num_columns = len(headers)\n",
        "    max_lengths = []\n",
        "\n",
        "    for i in range(num_columns):\n",
        "        column_values = worksheet.col_values(i + 1)  # Google Sheets columns are 1-indexed\n",
        "        length = max(len(value) for value in column_values)\n",
        "        max_length = 250 if length>=40 else 140\n",
        "        max_lengths.append((chr(65 + i), max_length))\n",
        "    set_column_widths(worksheet,max_lengths)\n",
        "    worksheet.format(\"A:ZZ\", {\"wrapStrategy\": \"WRAP\"})\n",
        "    cell_format = {\n",
        "        \"verticalAlignment\": \"TOP\"\n",
        "    }\n",
        "    worksheet.format('A1:ZZ1000', cell_format)\n",
        "    format_cell_range(worksheet, '1', header_fmt)\n",
        "\n",
        "    # Format the data rows\n",
        "    format_cell_range(worksheet, cell_range, data_fmt)\n",
        "\n",
        "    # Freeze the header row\n",
        "    set_frozen(worksheet, rows=1)\n",
        "\n",
        "    print(\"Successfully made changes in the Google sheet.\")"
      ],
      "metadata": {
        "id": "cxD5jCASHerj"
      },
      "execution_count": 51,
      "outputs": []
    },
    {
      "cell_type": "markdown",
      "source": [
        "### Function to Delete Additional Rows and Columns"
      ],
      "metadata": {
        "id": "LMIqhcn2o6F4"
      }
    },
    {
      "cell_type": "code",
      "source": [
        "def trim_Sheet(worksheet):\n",
        "    service = build('sheets', 'v4', credentials = creds)\n",
        "\n",
        "    spreadsheet_id = spreadsheet.id\n",
        "    sheet_id = worksheet.id\n",
        "\n",
        "    all_values = worksheet.get_all_values()\n",
        "    num_filled_rows = len(all_values)\n",
        "    num_filled_columns = len(all_values[0]) if num_filled_rows > 0 else 0\n",
        "\n",
        "    # Deleting Rows\n",
        "    requests = [\n",
        "        {'deleteDimension': {\n",
        "            'range':   {\n",
        "                        'sheetId': sheet_id,\n",
        "                        'dimension': 'ROWS',\n",
        "                        'startIndex': num_filled_rows, # 0-Based Indexing\n",
        "                        }\n",
        "                }\n",
        "        }\n",
        "    ]\n",
        "\n",
        "    # Deleting Columns\n",
        "    requests.append(\n",
        "        {\n",
        "            'deleteDimension': {\n",
        "              'range':  {\n",
        "                          'sheetId': sheet_id,\n",
        "                          'dimension': 'COLUMNS',\n",
        "                          'startIndex': num_filled_columns, # 0-Based Indexing\n",
        "                        }\n",
        "                }\n",
        "        }\n",
        "    )\n",
        "\n",
        "    # Execute the batch update request\n",
        "    body = { 'requests' : requests }\n",
        "\n",
        "    try:\n",
        "        response = service.spreadsheets().batchUpdate(spreadsheetId = spreadsheet_id, body = body).execute()\n",
        "        print('Unused rows and columns removed successfully.')\n",
        "    except HttpError as e:\n",
        "        error_message = e._get_reason()\n",
        "        if \"Cannot delete a row that doesn't exist\" in error_message:\n",
        "            print(\"One or more specified rows  do not exist.\")\n",
        "        elif \"Cannot delete a column that doesn't exist\" in error_message:\n",
        "            print(\"One or more specified columns do not exist.\")\n",
        "        else:\n",
        "            print(e)"
      ],
      "metadata": {
        "id": "p44OFNCRfbUR"
      },
      "execution_count": 62,
      "outputs": []
    },
    {
      "cell_type": "code",
      "source": [
        "formatting(worksheet)\n",
        "trim_Sheet(worksheet)"
      ],
      "metadata": {
        "colab": {
          "base_uri": "https://localhost:8080/"
        },
        "id": "z3Fm6Z5FImOw",
        "outputId": "0eb511bb-215f-47ff-cc8e-0b5977b9dc53"
      },
      "execution_count": 63,
      "outputs": [
        {
          "output_type": "stream",
          "name": "stdout",
          "text": [
            "Successfully made changes in the Google sheet.\n",
            "One or more specified rows  do not exist.\n"
          ]
        }
      ]
    },
    {
      "cell_type": "code",
      "source": [],
      "metadata": {
        "id": "IGPxW5lpqHDi"
      },
      "execution_count": null,
      "outputs": []
    }
  ]
}